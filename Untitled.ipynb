{
 "cells": [
  {
   "cell_type": "code",
   "execution_count": 1,
   "metadata": {},
   "outputs": [],
   "source": [
    "import uuid"
   ]
  },
  {
   "cell_type": "code",
   "execution_count": 7,
   "metadata": {},
   "outputs": [
    {
     "data": {
      "text/plain": [
       "UUID('d3e1e592-4665-44a4-94ad-be3632ed97e3')"
      ]
     },
     "execution_count": 7,
     "metadata": {},
     "output_type": "execute_result"
    }
   ],
   "source": [
    "uuid.uuid4()"
   ]
  },
  {
   "cell_type": "code",
   "execution_count": 1,
   "metadata": {},
   "outputs": [],
   "source": [
    "import pandas as pd"
   ]
  },
  {
   "cell_type": "code",
   "execution_count": 2,
   "metadata": {},
   "outputs": [],
   "source": [
    "df = pd.read_csv('citilink.csv', encoding='utf-8', sep=';')"
   ]
  },
  {
   "cell_type": "code",
   "execution_count": 3,
   "metadata": {},
   "outputs": [
    {
     "data": {
      "text/html": [
       "<div>\n",
       "<style scoped>\n",
       "    .dataframe tbody tr th:only-of-type {\n",
       "        vertical-align: middle;\n",
       "    }\n",
       "\n",
       "    .dataframe tbody tr th {\n",
       "        vertical-align: top;\n",
       "    }\n",
       "\n",
       "    .dataframe thead th {\n",
       "        text-align: right;\n",
       "    }\n",
       "</style>\n",
       "<table border=\"1\" class=\"dataframe\">\n",
       "  <thead>\n",
       "    <tr style=\"text-align: right;\">\n",
       "      <th></th>\n",
       "      <th>id</th>\n",
       "      <th>categoryId</th>\n",
       "      <th>price</th>\n",
       "      <th>oldPrice</th>\n",
       "      <th>shortName</th>\n",
       "      <th>categoryName</th>\n",
       "      <th>brandName</th>\n",
       "      <th>clubPrice</th>\n",
       "      <th>picture</th>\n",
       "    </tr>\n",
       "  </thead>\n",
       "  <tbody>\n",
       "    <tr>\n",
       "      <th>0</th>\n",
       "      <td>352141</td>\n",
       "      <td>29</td>\n",
       "      <td>3190</td>\n",
       "      <td>0</td>\n",
       "      <td>Видеокарта MSI nVidia  GeForce GT 710 ,  GT 71...</td>\n",
       "      <td>Видеокарты</td>\n",
       "      <td>MSI</td>\n",
       "      <td>3150</td>\n",
       "      <td>https://items.s1.citilink.ru/352141_v01_m.jpg</td>\n",
       "    </tr>\n",
       "    <tr>\n",
       "      <th>1</th>\n",
       "      <td>1421451</td>\n",
       "      <td>29</td>\n",
       "      <td>136990</td>\n",
       "      <td>0</td>\n",
       "      <td>Видеокарта PALIT NVIDIA  GeForce RTX 3070 ,  P...</td>\n",
       "      <td>Видеокарты</td>\n",
       "      <td>PALIT</td>\n",
       "      <td>136310</td>\n",
       "      <td>https://items.s1.citilink.ru/1421451_v01_m.jpg</td>\n",
       "    </tr>\n",
       "    <tr>\n",
       "      <th>2</th>\n",
       "      <td>1420798</td>\n",
       "      <td>29</td>\n",
       "      <td>141990</td>\n",
       "      <td>0</td>\n",
       "      <td>Видеокарта GIGABYTE NVIDIA  GeForce RTX 3070 ,...</td>\n",
       "      <td>Видеокарты</td>\n",
       "      <td>GIGABYTE</td>\n",
       "      <td>141290</td>\n",
       "      <td>https://items.s1.citilink.ru/1420798_v01_m.jpg</td>\n",
       "    </tr>\n",
       "    <tr>\n",
       "      <th>3</th>\n",
       "      <td>1185833</td>\n",
       "      <td>29</td>\n",
       "      <td>48990</td>\n",
       "      <td>0</td>\n",
       "      <td>Видеокарта PALIT nVidia  GeForce GTX 1660SUPER...</td>\n",
       "      <td>Видеокарты</td>\n",
       "      <td>PALIT</td>\n",
       "      <td>48750</td>\n",
       "      <td>https://items.s1.citilink.ru/1185833_v01_m.jpg</td>\n",
       "    </tr>\n",
       "    <tr>\n",
       "      <th>4</th>\n",
       "      <td>1423317</td>\n",
       "      <td>29</td>\n",
       "      <td>142990</td>\n",
       "      <td>0</td>\n",
       "      <td>Видеокарта MSI nVidia  GeForce RTX 3070 ,  RTX...</td>\n",
       "      <td>Видеокарты</td>\n",
       "      <td>MSI</td>\n",
       "      <td>142280</td>\n",
       "      <td>https://items.s1.citilink.ru/1423317_v01_m.jpg</td>\n",
       "    </tr>\n",
       "  </tbody>\n",
       "</table>\n",
       "</div>"
      ],
      "text/plain": [
       "        id  categoryId   price  oldPrice  \\\n",
       "0   352141          29    3190         0   \n",
       "1  1421451          29  136990         0   \n",
       "2  1420798          29  141990         0   \n",
       "3  1185833          29   48990         0   \n",
       "4  1423317          29  142990         0   \n",
       "\n",
       "                                           shortName categoryName brandName  \\\n",
       "0  Видеокарта MSI nVidia  GeForce GT 710 ,  GT 71...   Видеокарты       MSI   \n",
       "1  Видеокарта PALIT NVIDIA  GeForce RTX 3070 ,  P...   Видеокарты     PALIT   \n",
       "2  Видеокарта GIGABYTE NVIDIA  GeForce RTX 3070 ,...   Видеокарты  GIGABYTE   \n",
       "3  Видеокарта PALIT nVidia  GeForce GTX 1660SUPER...   Видеокарты     PALIT   \n",
       "4  Видеокарта MSI nVidia  GeForce RTX 3070 ,  RTX...   Видеокарты       MSI   \n",
       "\n",
       "   clubPrice                                         picture  \n",
       "0       3150   https://items.s1.citilink.ru/352141_v01_m.jpg  \n",
       "1     136310  https://items.s1.citilink.ru/1421451_v01_m.jpg  \n",
       "2     141290  https://items.s1.citilink.ru/1420798_v01_m.jpg  \n",
       "3      48750  https://items.s1.citilink.ru/1185833_v01_m.jpg  \n",
       "4     142280  https://items.s1.citilink.ru/1423317_v01_m.jpg  "
      ]
     },
     "execution_count": 3,
     "metadata": {},
     "output_type": "execute_result"
    }
   ],
   "source": [
    "df.head()"
   ]
  },
  {
   "cell_type": "code",
   "execution_count": 6,
   "metadata": {},
   "outputs": [
    {
     "data": {
      "text/plain": [
       "count    6.120000e+02\n",
       "mean     1.096694e+06\n",
       "std      4.310363e+05\n",
       "min      2.742710e+05\n",
       "25%      4.931995e+05\n",
       "50%      1.390315e+06\n",
       "75%      1.442318e+06\n",
       "max      1.475888e+06\n",
       "Name: id, dtype: float64"
      ]
     },
     "execution_count": 6,
     "metadata": {},
     "output_type": "execute_result"
    }
   ],
   "source": []
  },
  {
   "cell_type": "code",
   "execution_count": 128,
   "metadata": {},
   "outputs": [
    {
     "name": "stdout",
     "output_type": "stream",
     "text": [
      "<class 'pandas.core.frame.DataFrame'>\n",
      "RangeIndex: 612 entries, 0 to 611\n",
      "Data columns (total 9 columns):\n",
      " #   Column        Non-Null Count  Dtype \n",
      "---  ------        --------------  ----- \n",
      " 0   id            612 non-null    int64 \n",
      " 1   categoryId    612 non-null    int64 \n",
      " 2   price         612 non-null    int64 \n",
      " 3   oldPrice      612 non-null    int64 \n",
      " 4   shortName     612 non-null    object\n",
      " 5   categoryName  612 non-null    object\n",
      " 6   brandName     612 non-null    object\n",
      " 7   clubPrice     612 non-null    int64 \n",
      " 8   picture       612 non-null    object\n",
      "dtypes: int64(5), object(4)\n",
      "memory usage: 43.2+ KB\n"
     ]
    }
   ],
   "source": [
    "df.info()"
   ]
  },
  {
   "cell_type": "code",
   "execution_count": 3,
   "metadata": {},
   "outputs": [
    {
     "data": {
      "text/html": [
       "<div>\n",
       "<style scoped>\n",
       "    .dataframe tbody tr th:only-of-type {\n",
       "        vertical-align: middle;\n",
       "    }\n",
       "\n",
       "    .dataframe tbody tr th {\n",
       "        vertical-align: top;\n",
       "    }\n",
       "\n",
       "    .dataframe thead th {\n",
       "        text-align: right;\n",
       "    }\n",
       "</style>\n",
       "<table border=\"1\" class=\"dataframe\">\n",
       "  <thead>\n",
       "    <tr style=\"text-align: right;\">\n",
       "      <th></th>\n",
       "      <th>Unnamed: 0</th>\n",
       "      <th>Название станцииПрежние названия</th>\n",
       "      <th>Датаоткрытия</th>\n",
       "      <th>Пере-садки</th>\n",
       "      <th>Глубина,м[2]</th>\n",
       "      <th>Тип конструкции</th>\n",
       "      <th>Координаты</th>\n",
       "      <th>Вид станции</th>\n",
       "    </tr>\n",
       "  </thead>\n",
       "  <tbody>\n",
       "    <tr>\n",
       "      <th>0</th>\n",
       "      <td>NaN</td>\n",
       "      <td>Бульвар РокоссовскогоУлица Подбельского (до 2014)</td>\n",
       "      <td>1 августа 1990</td>\n",
       "      <td>NaN</td>\n",
       "      <td>−8</td>\n",
       "      <td>колоннаямелкого заложениятрёхпролётная</td>\n",
       "      <td>55°48′53″ с. ш. 37°44′03″ в. д.HЯ</td>\n",
       "      <td>NaN</td>\n",
       "    </tr>\n",
       "    <tr>\n",
       "      <th>1</th>\n",
       "      <td>NaN</td>\n",
       "      <td>Черкизовская</td>\n",
       "      <td>1 августа 1990</td>\n",
       "      <td>NaN</td>\n",
       "      <td>−9</td>\n",
       "      <td>односводчатаямелкого заложения</td>\n",
       "      <td>55°48′14″ с. ш. 37°44′41″ в. д.HЯ</td>\n",
       "      <td>NaN</td>\n",
       "    </tr>\n",
       "    <tr>\n",
       "      <th>2</th>\n",
       "      <td>NaN</td>\n",
       "      <td>Преображенская площадь</td>\n",
       "      <td>31 декабря 1965</td>\n",
       "      <td>NaN</td>\n",
       "      <td>−8</td>\n",
       "      <td>колоннаямелкого заложениятрёхпролётная</td>\n",
       "      <td>55°47′47″ с. ш. 37°42′54″ в. д.HЯ</td>\n",
       "      <td>NaN</td>\n",
       "    </tr>\n",
       "    <tr>\n",
       "      <th>3</th>\n",
       "      <td>NaN</td>\n",
       "      <td>Сокольники</td>\n",
       "      <td>15 мая 1935</td>\n",
       "      <td>NaN</td>\n",
       "      <td>−9</td>\n",
       "      <td>колоннаямелкого заложениятрёхпролётная</td>\n",
       "      <td>55°47′20″ с. ш. 37°40′49″ в. д.HЯ</td>\n",
       "      <td>NaN</td>\n",
       "    </tr>\n",
       "    <tr>\n",
       "      <th>4</th>\n",
       "      <td>NaN</td>\n",
       "      <td>Красносельская</td>\n",
       "      <td>15 мая 1935</td>\n",
       "      <td>NaN</td>\n",
       "      <td>−8</td>\n",
       "      <td>колоннаямелкого заложениядвухпролётная</td>\n",
       "      <td>55°46′48″ с. ш. 37°40′02″ в. д.HЯ</td>\n",
       "      <td>NaN</td>\n",
       "    </tr>\n",
       "  </tbody>\n",
       "</table>\n",
       "</div>"
      ],
      "text/plain": [
       "   Unnamed: 0                   Название станцииПрежние названия  \\\n",
       "0         NaN  Бульвар РокоссовскогоУлица Подбельского (до 2014)   \n",
       "1         NaN                                       Черкизовская   \n",
       "2         NaN                             Преображенская площадь   \n",
       "3         NaN                                         Сокольники   \n",
       "4         NaN                                     Красносельская   \n",
       "\n",
       "      Датаоткрытия Пере-садки Глубина,м[2]  \\\n",
       "0   1 августа 1990        NaN           −8   \n",
       "1   1 августа 1990        NaN           −9   \n",
       "2  31 декабря 1965        NaN           −8   \n",
       "3      15 мая 1935        NaN           −9   \n",
       "4      15 мая 1935        NaN           −8   \n",
       "\n",
       "                          Тип конструкции                         Координаты  \\\n",
       "0  колоннаямелкого заложениятрёхпролётная  55°48′53″ с. ш. 37°44′03″ в. д.HЯ   \n",
       "1          односводчатаямелкого заложения  55°48′14″ с. ш. 37°44′41″ в. д.HЯ   \n",
       "2  колоннаямелкого заложениятрёхпролётная  55°47′47″ с. ш. 37°42′54″ в. д.HЯ   \n",
       "3  колоннаямелкого заложениятрёхпролётная  55°47′20″ с. ш. 37°40′49″ в. д.HЯ   \n",
       "4  колоннаямелкого заложениядвухпролётная  55°46′48″ с. ш. 37°40′02″ в. д.HЯ   \n",
       "\n",
       "   Вид станции  \n",
       "0          NaN  \n",
       "1          NaN  \n",
       "2          NaN  \n",
       "3          NaN  \n",
       "4          NaN  "
      ]
     },
     "execution_count": 3,
     "metadata": {},
     "output_type": "execute_result"
    }
   ],
   "source": [
    "URL = \"https://ru.wikipedia.org/wiki/%D0%A1%D0%BF%D0%B8%D1%81%D0%BE%D0%BA_%D1%81%D1%82%D0%B0%D0%BD%D1%86%D0%B8%D0%B9_%D0%9C%D0%BE%D1%81%D0%BA%D0%BE%D0%B2%D1%81%D0%BA%D0%BE%D0%B3%D0%BE_%D0%BC%D0%B5%D1%82%D1%80%D0%BE%D0%BF%D0%BE%D0%BB%D0%B8%D1%82%D0%B5%D0%BD%D0%B0\"\n",
    "result = pd.read_html(URL, attrs={\"class\": \"standard\"}, header=0)\n",
    "result[0].head()"
   ]
  },
  {
   "cell_type": "code",
   "execution_count": 6,
   "metadata": {},
   "outputs": [
    {
     "ename": "ValueError",
     "evalue": "No tables found",
     "output_type": "error",
     "traceback": [
      "\u001b[1;31m---------------------------------------------------------------------------\u001b[0m",
      "\u001b[1;31mValueError\u001b[0m                                Traceback (most recent call last)",
      "\u001b[1;32m<ipython-input-6-796c5637ac39>\u001b[0m in \u001b[0;36m<module>\u001b[1;34m\u001b[0m\n\u001b[0;32m      1\u001b[0m \u001b[0mBASE_URL\u001b[0m \u001b[1;33m=\u001b[0m \u001b[1;34m'https://www.citilink.ru/catalog/videokarty/'\u001b[0m\u001b[1;33m\u001b[0m\u001b[1;33m\u001b[0m\u001b[0m\n\u001b[1;32m----> 2\u001b[1;33m \u001b[0mcitilink\u001b[0m \u001b[1;33m=\u001b[0m \u001b[0mpd\u001b[0m\u001b[1;33m.\u001b[0m\u001b[0mread_html\u001b[0m\u001b[1;33m(\u001b[0m\u001b[0mBASE_URL\u001b[0m\u001b[1;33m,\u001b[0m \u001b[0mattrs\u001b[0m\u001b[1;33m=\u001b[0m\u001b[1;33m{\u001b[0m\u001b[1;34m\"class\"\u001b[0m\u001b[1;33m:\u001b[0m \u001b[1;34m\"ProductCardCategoryList__list\"\u001b[0m\u001b[1;33m}\u001b[0m\u001b[1;33m,\u001b[0m \u001b[0mheader\u001b[0m\u001b[1;33m=\u001b[0m\u001b[1;36m0\u001b[0m\u001b[1;33m)\u001b[0m\u001b[1;33m\u001b[0m\u001b[1;33m\u001b[0m\u001b[0m\n\u001b[0m\u001b[0;32m      3\u001b[0m \u001b[0mcitilink\u001b[0m\u001b[1;33m[\u001b[0m\u001b[1;36m0\u001b[0m\u001b[1;33m]\u001b[0m\u001b[1;33m.\u001b[0m\u001b[0mhead\u001b[0m\u001b[1;33m(\u001b[0m\u001b[1;33m)\u001b[0m\u001b[1;33m\u001b[0m\u001b[1;33m\u001b[0m\u001b[0m\n",
      "\u001b[1;32mc:\\python\\python38\\lib\\site-packages\\pandas\\util\\_decorators.py\u001b[0m in \u001b[0;36mwrapper\u001b[1;34m(*args, **kwargs)\u001b[0m\n\u001b[0;32m    297\u001b[0m                 )\n\u001b[0;32m    298\u001b[0m                 \u001b[0mwarnings\u001b[0m\u001b[1;33m.\u001b[0m\u001b[0mwarn\u001b[0m\u001b[1;33m(\u001b[0m\u001b[0mmsg\u001b[0m\u001b[1;33m,\u001b[0m \u001b[0mFutureWarning\u001b[0m\u001b[1;33m,\u001b[0m \u001b[0mstacklevel\u001b[0m\u001b[1;33m=\u001b[0m\u001b[0mstacklevel\u001b[0m\u001b[1;33m)\u001b[0m\u001b[1;33m\u001b[0m\u001b[1;33m\u001b[0m\u001b[0m\n\u001b[1;32m--> 299\u001b[1;33m             \u001b[1;32mreturn\u001b[0m \u001b[0mfunc\u001b[0m\u001b[1;33m(\u001b[0m\u001b[1;33m*\u001b[0m\u001b[0margs\u001b[0m\u001b[1;33m,\u001b[0m \u001b[1;33m**\u001b[0m\u001b[0mkwargs\u001b[0m\u001b[1;33m)\u001b[0m\u001b[1;33m\u001b[0m\u001b[1;33m\u001b[0m\u001b[0m\n\u001b[0m\u001b[0;32m    300\u001b[0m \u001b[1;33m\u001b[0m\u001b[0m\n\u001b[0;32m    301\u001b[0m         \u001b[1;32mreturn\u001b[0m \u001b[0mwrapper\u001b[0m\u001b[1;33m\u001b[0m\u001b[1;33m\u001b[0m\u001b[0m\n",
      "\u001b[1;32mc:\\python\\python38\\lib\\site-packages\\pandas\\io\\html.py\u001b[0m in \u001b[0;36mread_html\u001b[1;34m(io, match, flavor, header, index_col, skiprows, attrs, parse_dates, thousands, encoding, decimal, converters, na_values, keep_default_na, displayed_only)\u001b[0m\n\u001b[0;32m   1083\u001b[0m     \u001b[0mio\u001b[0m \u001b[1;33m=\u001b[0m \u001b[0mstringify_path\u001b[0m\u001b[1;33m(\u001b[0m\u001b[0mio\u001b[0m\u001b[1;33m)\u001b[0m\u001b[1;33m\u001b[0m\u001b[1;33m\u001b[0m\u001b[0m\n\u001b[0;32m   1084\u001b[0m \u001b[1;33m\u001b[0m\u001b[0m\n\u001b[1;32m-> 1085\u001b[1;33m     return _parse(\n\u001b[0m\u001b[0;32m   1086\u001b[0m         \u001b[0mflavor\u001b[0m\u001b[1;33m=\u001b[0m\u001b[0mflavor\u001b[0m\u001b[1;33m,\u001b[0m\u001b[1;33m\u001b[0m\u001b[1;33m\u001b[0m\u001b[0m\n\u001b[0;32m   1087\u001b[0m         \u001b[0mio\u001b[0m\u001b[1;33m=\u001b[0m\u001b[0mio\u001b[0m\u001b[1;33m,\u001b[0m\u001b[1;33m\u001b[0m\u001b[1;33m\u001b[0m\u001b[0m\n",
      "\u001b[1;32mc:\\python\\python38\\lib\\site-packages\\pandas\\io\\html.py\u001b[0m in \u001b[0;36m_parse\u001b[1;34m(flavor, io, match, attrs, encoding, displayed_only, **kwargs)\u001b[0m\n\u001b[0;32m    911\u001b[0m     \u001b[1;32melse\u001b[0m\u001b[1;33m:\u001b[0m\u001b[1;33m\u001b[0m\u001b[1;33m\u001b[0m\u001b[0m\n\u001b[0;32m    912\u001b[0m         \u001b[1;32massert\u001b[0m \u001b[0mretained\u001b[0m \u001b[1;32mis\u001b[0m \u001b[1;32mnot\u001b[0m \u001b[1;32mNone\u001b[0m  \u001b[1;31m# for mypy\u001b[0m\u001b[1;33m\u001b[0m\u001b[1;33m\u001b[0m\u001b[0m\n\u001b[1;32m--> 913\u001b[1;33m         \u001b[1;32mraise\u001b[0m \u001b[0mretained\u001b[0m\u001b[1;33m\u001b[0m\u001b[1;33m\u001b[0m\u001b[0m\n\u001b[0m\u001b[0;32m    914\u001b[0m \u001b[1;33m\u001b[0m\u001b[0m\n\u001b[0;32m    915\u001b[0m     \u001b[0mret\u001b[0m \u001b[1;33m=\u001b[0m \u001b[1;33m[\u001b[0m\u001b[1;33m]\u001b[0m\u001b[1;33m\u001b[0m\u001b[1;33m\u001b[0m\u001b[0m\n",
      "\u001b[1;32mc:\\python\\python38\\lib\\site-packages\\pandas\\io\\html.py\u001b[0m in \u001b[0;36m_parse\u001b[1;34m(flavor, io, match, attrs, encoding, displayed_only, **kwargs)\u001b[0m\n\u001b[0;32m    891\u001b[0m \u001b[1;33m\u001b[0m\u001b[0m\n\u001b[0;32m    892\u001b[0m         \u001b[1;32mtry\u001b[0m\u001b[1;33m:\u001b[0m\u001b[1;33m\u001b[0m\u001b[1;33m\u001b[0m\u001b[0m\n\u001b[1;32m--> 893\u001b[1;33m             \u001b[0mtables\u001b[0m \u001b[1;33m=\u001b[0m \u001b[0mp\u001b[0m\u001b[1;33m.\u001b[0m\u001b[0mparse_tables\u001b[0m\u001b[1;33m(\u001b[0m\u001b[1;33m)\u001b[0m\u001b[1;33m\u001b[0m\u001b[1;33m\u001b[0m\u001b[0m\n\u001b[0m\u001b[0;32m    894\u001b[0m         \u001b[1;32mexcept\u001b[0m \u001b[0mValueError\u001b[0m \u001b[1;32mas\u001b[0m \u001b[0mcaught\u001b[0m\u001b[1;33m:\u001b[0m\u001b[1;33m\u001b[0m\u001b[1;33m\u001b[0m\u001b[0m\n\u001b[0;32m    895\u001b[0m             \u001b[1;31m# if `io` is an io-like object, check if it's seekable\u001b[0m\u001b[1;33m\u001b[0m\u001b[1;33m\u001b[0m\u001b[1;33m\u001b[0m\u001b[0m\n",
      "\u001b[1;32mc:\\python\\python38\\lib\\site-packages\\pandas\\io\\html.py\u001b[0m in \u001b[0;36mparse_tables\u001b[1;34m(self)\u001b[0m\n\u001b[0;32m    211\u001b[0m         \u001b[0mlist\u001b[0m \u001b[0mof\u001b[0m \u001b[0mparsed\u001b[0m \u001b[1;33m(\u001b[0m\u001b[0mheader\u001b[0m\u001b[1;33m,\u001b[0m \u001b[0mbody\u001b[0m\u001b[1;33m,\u001b[0m \u001b[0mfooter\u001b[0m\u001b[1;33m)\u001b[0m \u001b[0mtuples\u001b[0m \u001b[1;32mfrom\u001b[0m \u001b[0mtables\u001b[0m\u001b[1;33m.\u001b[0m\u001b[1;33m\u001b[0m\u001b[1;33m\u001b[0m\u001b[0m\n\u001b[0;32m    212\u001b[0m         \"\"\"\n\u001b[1;32m--> 213\u001b[1;33m         \u001b[0mtables\u001b[0m \u001b[1;33m=\u001b[0m \u001b[0mself\u001b[0m\u001b[1;33m.\u001b[0m\u001b[0m_parse_tables\u001b[0m\u001b[1;33m(\u001b[0m\u001b[0mself\u001b[0m\u001b[1;33m.\u001b[0m\u001b[0m_build_doc\u001b[0m\u001b[1;33m(\u001b[0m\u001b[1;33m)\u001b[0m\u001b[1;33m,\u001b[0m \u001b[0mself\u001b[0m\u001b[1;33m.\u001b[0m\u001b[0mmatch\u001b[0m\u001b[1;33m,\u001b[0m \u001b[0mself\u001b[0m\u001b[1;33m.\u001b[0m\u001b[0mattrs\u001b[0m\u001b[1;33m)\u001b[0m\u001b[1;33m\u001b[0m\u001b[1;33m\u001b[0m\u001b[0m\n\u001b[0m\u001b[0;32m    214\u001b[0m         \u001b[1;32mreturn\u001b[0m \u001b[1;33m(\u001b[0m\u001b[0mself\u001b[0m\u001b[1;33m.\u001b[0m\u001b[0m_parse_thead_tbody_tfoot\u001b[0m\u001b[1;33m(\u001b[0m\u001b[0mtable\u001b[0m\u001b[1;33m)\u001b[0m \u001b[1;32mfor\u001b[0m \u001b[0mtable\u001b[0m \u001b[1;32min\u001b[0m \u001b[0mtables\u001b[0m\u001b[1;33m)\u001b[0m\u001b[1;33m\u001b[0m\u001b[1;33m\u001b[0m\u001b[0m\n\u001b[0;32m    215\u001b[0m \u001b[1;33m\u001b[0m\u001b[0m\n",
      "\u001b[1;32mc:\\python\\python38\\lib\\site-packages\\pandas\\io\\html.py\u001b[0m in \u001b[0;36m_parse_tables\u001b[1;34m(self, doc, match, attrs)\u001b[0m\n\u001b[0;32m    541\u001b[0m \u001b[1;33m\u001b[0m\u001b[0m\n\u001b[0;32m    542\u001b[0m         \u001b[1;32mif\u001b[0m \u001b[1;32mnot\u001b[0m \u001b[0mtables\u001b[0m\u001b[1;33m:\u001b[0m\u001b[1;33m\u001b[0m\u001b[1;33m\u001b[0m\u001b[0m\n\u001b[1;32m--> 543\u001b[1;33m             \u001b[1;32mraise\u001b[0m \u001b[0mValueError\u001b[0m\u001b[1;33m(\u001b[0m\u001b[1;34m\"No tables found\"\u001b[0m\u001b[1;33m)\u001b[0m\u001b[1;33m\u001b[0m\u001b[1;33m\u001b[0m\u001b[0m\n\u001b[0m\u001b[0;32m    544\u001b[0m \u001b[1;33m\u001b[0m\u001b[0m\n\u001b[0;32m    545\u001b[0m         \u001b[0mresult\u001b[0m \u001b[1;33m=\u001b[0m \u001b[1;33m[\u001b[0m\u001b[1;33m]\u001b[0m\u001b[1;33m\u001b[0m\u001b[1;33m\u001b[0m\u001b[0m\n",
      "\u001b[1;31mValueError\u001b[0m: No tables found"
     ]
    }
   ],
   "source": [
    "BASE_URL = 'https://www.citilink.ru/catalog/videokarty/'\n",
    "citilink = pd.read_html(BASE_URL, attrs={\"class\": \"ProductCardCategoryList__list\"}, header=0)\n",
    "citilink[0].head()"
   ]
  },
  {
   "cell_type": "code",
   "execution_count": 7,
   "metadata": {},
   "outputs": [],
   "source": [
    "def get_response(url=BASE_URL, key=1):\n",
    "    current_url = url + str(key)\n",
    "    try:\n",
    "        response = requests.get(url)\n",
    "        if response.status_code == 200:\n",
    "            return response.text\n",
    "        else:\n",
    "            print(response.status_code)\n",
    "            return False\n",
    "    except ValueError as exp:\n",
    "        print(exp)\n",
    "    except Exception as exp:\n",
    "        print(exp, exp.args)"
   ]
  },
  {
   "cell_type": "code",
   "execution_count": 4,
   "metadata": {},
   "outputs": [],
   "source": [
    "from pprint import pprint\n",
    "import requests\n",
    "from bs4 import BeautifulSoup\n",
    "import json"
   ]
  },
  {
   "cell_type": "code",
   "execution_count": 54,
   "metadata": {},
   "outputs": [],
   "source": [
    "html = get_response()"
   ]
  },
  {
   "cell_type": "code",
   "execution_count": 119,
   "metadata": {},
   "outputs": [],
   "source": [
    "def parse_html(html):\n",
    "    soup = BeautifulSoup(html, 'html.parser')\n",
    "    products_on_page = soup.select('div.product_data__gtm-js')\n",
    "    dicts_list = []\n",
    "    for i in range(len(products_on_page)):\n",
    "        product_params = json.loads(products_on_page[i]['data-params'])\n",
    "#         print(i, product_params['shortName'])\n",
    "        \n",
    "        try:\n",
    "            product_picture = products_on_page[i].select('img.ProductCardHorizontal__image')[0]['src'] or \\\n",
    "            products_on_page[i].select('img.ProductCardVertical__picture')[0]['src']\n",
    "            \n",
    "        except IndexError as exp:\n",
    "            print(i, exp, exp.args)\n",
    "\n",
    "        product_params['picture'] = product_picture\n",
    "#         print(i, product_params['picture'])\n",
    "        dicts_list.append(product_params)\n",
    "    return dicts_list"
   ]
  },
  {
   "cell_type": "code",
   "execution_count": 120,
   "metadata": {},
   "outputs": [
    {
     "name": "stdout",
     "output_type": "stream",
     "text": [
      "48 list index out of range ('list index out of range',)\n",
      "49 list index out of range ('list index out of range',)\n",
      "50 list index out of range ('list index out of range',)\n",
      "51 list index out of range ('list index out of range',)\n",
      "52 list index out of range ('list index out of range',)\n",
      "53 list index out of range ('list index out of range',)\n",
      "54 list index out of range ('list index out of range',)\n",
      "55 list index out of range ('list index out of range',)\n",
      "56 list index out of range ('list index out of range',)\n",
      "57 list index out of range ('list index out of range',)\n",
      "58 list index out of range ('list index out of range',)\n",
      "59 list index out of range ('list index out of range',)\n",
      "60 list index out of range ('list index out of range',)\n",
      "61 list index out of range ('list index out of range',)\n",
      "62 list index out of range ('list index out of range',)\n",
      "63 list index out of range ('list index out of range',)\n",
      "64 list index out of range ('list index out of range',)\n",
      "65 list index out of range ('list index out of range',)\n",
      "66 list index out of range ('list index out of range',)\n",
      "67 list index out of range ('list index out of range',)\n"
     ]
    }
   ],
   "source": [
    "result = parse_html(html)"
   ]
  },
  {
   "cell_type": "code",
   "execution_count": 121,
   "metadata": {},
   "outputs": [],
   "source": [
    "df = pd.DataFrame(result)"
   ]
  },
  {
   "cell_type": "code",
   "execution_count": 122,
   "metadata": {},
   "outputs": [
    {
     "data": {
      "text/html": [
       "<div>\n",
       "<style scoped>\n",
       "    .dataframe tbody tr th:only-of-type {\n",
       "        vertical-align: middle;\n",
       "    }\n",
       "\n",
       "    .dataframe tbody tr th {\n",
       "        vertical-align: top;\n",
       "    }\n",
       "\n",
       "    .dataframe thead th {\n",
       "        text-align: right;\n",
       "    }\n",
       "</style>\n",
       "<table border=\"1\" class=\"dataframe\">\n",
       "  <thead>\n",
       "    <tr style=\"text-align: right;\">\n",
       "      <th></th>\n",
       "      <th>id</th>\n",
       "      <th>categoryId</th>\n",
       "      <th>price</th>\n",
       "      <th>oldPrice</th>\n",
       "      <th>shortName</th>\n",
       "      <th>categoryName</th>\n",
       "      <th>brandName</th>\n",
       "      <th>clubPrice</th>\n",
       "      <th>picture</th>\n",
       "    </tr>\n",
       "  </thead>\n",
       "  <tbody>\n",
       "    <tr>\n",
       "      <th>0</th>\n",
       "      <td>352141</td>\n",
       "      <td>29</td>\n",
       "      <td>3190</td>\n",
       "      <td>0</td>\n",
       "      <td>Видеокарта MSI nVidia  GeForce GT 710 ,  GT 71...</td>\n",
       "      <td>Видеокарты</td>\n",
       "      <td>MSI</td>\n",
       "      <td>3150</td>\n",
       "      <td>https://items.s1.citilink.ru/352141_v01_m.jpg</td>\n",
       "    </tr>\n",
       "    <tr>\n",
       "      <th>1</th>\n",
       "      <td>1421451</td>\n",
       "      <td>29</td>\n",
       "      <td>136990</td>\n",
       "      <td>0</td>\n",
       "      <td>Видеокарта PALIT NVIDIA  GeForce RTX 3070 ,  P...</td>\n",
       "      <td>Видеокарты</td>\n",
       "      <td>PALIT</td>\n",
       "      <td>136310</td>\n",
       "      <td>https://items.s1.citilink.ru/1421451_v01_m.jpg</td>\n",
       "    </tr>\n",
       "    <tr>\n",
       "      <th>2</th>\n",
       "      <td>1420798</td>\n",
       "      <td>29</td>\n",
       "      <td>141990</td>\n",
       "      <td>0</td>\n",
       "      <td>Видеокарта GIGABYTE NVIDIA  GeForce RTX 3070 ,...</td>\n",
       "      <td>Видеокарты</td>\n",
       "      <td>GIGABYTE</td>\n",
       "      <td>141290</td>\n",
       "      <td>https://items.s1.citilink.ru/1420798_v01_m.jpg</td>\n",
       "    </tr>\n",
       "    <tr>\n",
       "      <th>3</th>\n",
       "      <td>1185833</td>\n",
       "      <td>29</td>\n",
       "      <td>48990</td>\n",
       "      <td>0</td>\n",
       "      <td>Видеокарта PALIT nVidia  GeForce GTX 1660SUPER...</td>\n",
       "      <td>Видеокарты</td>\n",
       "      <td>PALIT</td>\n",
       "      <td>48750</td>\n",
       "      <td>https://items.s1.citilink.ru/1185833_v01_m.jpg</td>\n",
       "    </tr>\n",
       "    <tr>\n",
       "      <th>4</th>\n",
       "      <td>1423317</td>\n",
       "      <td>29</td>\n",
       "      <td>142990</td>\n",
       "      <td>0</td>\n",
       "      <td>Видеокарта MSI nVidia  GeForce RTX 3070 ,  RTX...</td>\n",
       "      <td>Видеокарты</td>\n",
       "      <td>MSI</td>\n",
       "      <td>142280</td>\n",
       "      <td>https://items.s1.citilink.ru/1423317_v01_m.jpg</td>\n",
       "    </tr>\n",
       "  </tbody>\n",
       "</table>\n",
       "</div>"
      ],
      "text/plain": [
       "        id  categoryId   price  oldPrice  \\\n",
       "0   352141          29    3190         0   \n",
       "1  1421451          29  136990         0   \n",
       "2  1420798          29  141990         0   \n",
       "3  1185833          29   48990         0   \n",
       "4  1423317          29  142990         0   \n",
       "\n",
       "                                           shortName categoryName brandName  \\\n",
       "0  Видеокарта MSI nVidia  GeForce GT 710 ,  GT 71...   Видеокарты       MSI   \n",
       "1  Видеокарта PALIT NVIDIA  GeForce RTX 3070 ,  P...   Видеокарты     PALIT   \n",
       "2  Видеокарта GIGABYTE NVIDIA  GeForce RTX 3070 ,...   Видеокарты  GIGABYTE   \n",
       "3  Видеокарта PALIT nVidia  GeForce GTX 1660SUPER...   Видеокарты     PALIT   \n",
       "4  Видеокарта MSI nVidia  GeForce RTX 3070 ,  RTX...   Видеокарты       MSI   \n",
       "\n",
       "   clubPrice                                         picture  \n",
       "0       3150   https://items.s1.citilink.ru/352141_v01_m.jpg  \n",
       "1     136310  https://items.s1.citilink.ru/1421451_v01_m.jpg  \n",
       "2     141290  https://items.s1.citilink.ru/1420798_v01_m.jpg  \n",
       "3      48750  https://items.s1.citilink.ru/1185833_v01_m.jpg  \n",
       "4     142280  https://items.s1.citilink.ru/1423317_v01_m.jpg  "
      ]
     },
     "execution_count": 122,
     "metadata": {},
     "output_type": "execute_result"
    }
   ],
   "source": [
    "df.head()"
   ]
  },
  {
   "cell_type": "code",
   "execution_count": 25,
   "metadata": {},
   "outputs": [],
   "source": [
    "%config Completer.use_jedi=False"
   ]
  },
  {
   "cell_type": "code",
   "execution_count": 88,
   "metadata": {},
   "outputs": [],
   "source": [
    "soup = BeautifulSoup(html, 'html.parser')"
   ]
  },
  {
   "cell_type": "code",
   "execution_count": 89,
   "metadata": {},
   "outputs": [],
   "source": [
    "products_on_page = soup.select('div.product_data__gtm-js')"
   ]
  },
  {
   "cell_type": "code",
   "execution_count": 111,
   "metadata": {},
   "outputs": [
    {
     "data": {
      "text/plain": [
       "'https://items.s1.citilink.ru/1421448_v01_m.jpg'"
      ]
     },
     "execution_count": 111,
     "metadata": {},
     "output_type": "execute_result"
    }
   ],
   "source": [
    "products_on_page[48].select('img.ProductCardVertical__picture')[0]['src']"
   ]
  },
  {
   "cell_type": "code",
   "execution_count": null,
   "metadata": {},
   "outputs": [],
   "source": [
    "df = pd."
   ]
  }
 ],
 "metadata": {
  "kernelspec": {
   "display_name": "Python 3",
   "language": "python",
   "name": "python3"
  },
  "language_info": {
   "codemirror_mode": {
    "name": "ipython",
    "version": 3
   },
   "file_extension": ".py",
   "mimetype": "text/x-python",
   "name": "python",
   "nbconvert_exporter": "python",
   "pygments_lexer": "ipython3",
   "version": "3.8.7"
  }
 },
 "nbformat": 4,
 "nbformat_minor": 4
}
